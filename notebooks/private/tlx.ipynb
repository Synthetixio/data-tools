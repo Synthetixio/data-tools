{
 "cells": [
  {
   "cell_type": "code",
   "execution_count": 14,
   "metadata": {},
   "outputs": [],
   "source": [
    "import polars as pl\n",
    "import pandas as pd\n",
    "from dotenv import load_dotenv\n",
    "from api.internal_api import SynthetixAPI, get_db_config\n",
    "\n",
    "load_dotenv()\n",
    "\n",
    "# constants\n",
    "DATA_LOC = \"~/repos/data/parquet-data/indexers\"\n",
    "db_config = get_db_config(streamlit=False)\n",
    "api = SynthetixAPI(db_config, streamlit=False)\n"
   ]
  },
  {
   "cell_type": "code",
   "execution_count": 15,
   "metadata": {},
   "outputs": [],
   "source": [
    "# get tlx data\n",
    "df_pl = pl.scan_parquet(\n",
    "    [\n",
    "        f\"{DATA_LOC}/raw/optimism_mainnet/tlx/**/*_event_minted.parquet\",\n",
    "        f\"{DATA_LOC}/raw/optimism_mainnet/tlx/**/*_event_redeemed.parquet\",\n",
    "    ],\n",
    "    include_file_paths=\"file_location\",\n",
    ")\n",
    "df = df_pl.collect()\n",
    "df_tlx = df.to_pandas()\n"
   ]
  },
  {
   "cell_type": "code",
   "execution_count": 16,
   "metadata": {},
   "outputs": [
    {
     "data": {
      "text/plain": [
       "Index(['id', 'blockNumber', 'blockTimestamp', 'transactionHash', 'contract',\n",
       "       'eventName', 'account', 'leveragedTokenAmount', 'baseAssetAmount',\n",
       "       'file_location'],\n",
       "      dtype='object')"
      ]
     },
     "execution_count": 16,
     "metadata": {},
     "output_type": "execute_result"
    }
   ],
   "source": [
    "df_tlx.columns"
   ]
  },
  {
   "cell_type": "code",
   "execution_count": 3,
   "metadata": {},
   "outputs": [],
   "source": [
    "df_tlx[\"ts\"] = df_tlx[\"blockTimestamp\"]\n",
    "df_tlx[\"market\"] = (\n",
    "    df_tlx[\"file_location\"]\n",
    "    .apply(lambda x: x.split(\"/\")[-1].split(\"_\")[0][:-1])\n",
    "    .str.upper()\n",
    ")\n"
   ]
  },
  {
   "cell_type": "code",
   "execution_count": 4,
   "metadata": {},
   "outputs": [
    {
     "name": "stdout",
     "output_type": "stream",
     "text": [
      "                               ts  block_number market     price\n",
      "0       2023-07-17 17:20:57+00:00     107007840    ARB    1.2687\n",
      "1       2023-04-18 06:33:03+00:00      91791929    ARB    1.7780\n",
      "2       2023-05-14 06:34:21+00:00      98122805    ARB    1.1728\n",
      "3       2023-08-08 12:19:07+00:00     107949185    APE    1.8259\n",
      "4       2024-02-13 23:07:03+00:00     116133423    APE    1.5134\n",
      "...                           ...           ...    ...       ...\n",
      "1039568 2024-07-03 22:05:49+00:00     122222786    ETH 3296.5176\n",
      "1039569 2023-12-20 19:17:09+00:00     113750526   AVAX   43.9023\n",
      "1039570 2023-09-06 17:00:33+00:00     109210428    ETH 1622.2090\n",
      "1039571 2024-03-16 02:48:41+00:00     117479272    SEI    1.1326\n",
      "1039572 2024-11-14 05:40:17+00:00     127982020    SUI    3.4965\n",
      "\n",
      "[1039573 rows x 4 columns]\n"
     ]
    }
   ],
   "source": [
    "# get prices\n",
    "df_prices = api._run_query(\n",
    "    \"\"\"\n",
    "SELECT distinct ts,\n",
    "    block_number,\n",
    "    market,\n",
    "    last(price) over(partition by market order by ts) as price\n",
    "FROM prod_optimism_mainnet.fct_v2_trades_optimism_mainnet\n",
    "    \"\"\"\n",
    ")\n",
    "print(df_prices)\n"
   ]
  },
  {
   "cell_type": "code",
   "execution_count": 5,
   "metadata": {},
   "outputs": [
    {
     "data": {
      "text/html": [
       "<div>\n",
       "<style scoped>\n",
       "    .dataframe tbody tr th:only-of-type {\n",
       "        vertical-align: middle;\n",
       "    }\n",
       "\n",
       "    .dataframe tbody tr th {\n",
       "        vertical-align: top;\n",
       "    }\n",
       "\n",
       "    .dataframe thead th {\n",
       "        text-align: right;\n",
       "    }\n",
       "</style>\n",
       "<table border=\"1\" class=\"dataframe\">\n",
       "  <thead>\n",
       "    <tr style=\"text-align: right;\">\n",
       "      <th></th>\n",
       "      <th>ts</th>\n",
       "      <th>block_number</th>\n",
       "      <th>market</th>\n",
       "      <th>price</th>\n",
       "    </tr>\n",
       "  </thead>\n",
       "  <tbody>\n",
       "    <tr>\n",
       "      <th>0</th>\n",
       "      <td>2023-07-17 17:20:57+00:00</td>\n",
       "      <td>107007840</td>\n",
       "      <td>ARB</td>\n",
       "      <td>1.2687</td>\n",
       "    </tr>\n",
       "    <tr>\n",
       "      <th>1</th>\n",
       "      <td>2023-04-18 06:33:03+00:00</td>\n",
       "      <td>91791929</td>\n",
       "      <td>ARB</td>\n",
       "      <td>1.7780</td>\n",
       "    </tr>\n",
       "    <tr>\n",
       "      <th>2</th>\n",
       "      <td>2023-05-14 06:34:21+00:00</td>\n",
       "      <td>98122805</td>\n",
       "      <td>ARB</td>\n",
       "      <td>1.1728</td>\n",
       "    </tr>\n",
       "    <tr>\n",
       "      <th>3</th>\n",
       "      <td>2023-08-08 12:19:07+00:00</td>\n",
       "      <td>107949185</td>\n",
       "      <td>APE</td>\n",
       "      <td>1.8259</td>\n",
       "    </tr>\n",
       "    <tr>\n",
       "      <th>4</th>\n",
       "      <td>2024-02-13 23:07:03+00:00</td>\n",
       "      <td>116133423</td>\n",
       "      <td>APE</td>\n",
       "      <td>1.5134</td>\n",
       "    </tr>\n",
       "  </tbody>\n",
       "</table>\n",
       "</div>"
      ],
      "text/plain": [
       "                         ts  block_number market  price\n",
       "0 2023-07-17 17:20:57+00:00     107007840    ARB 1.2687\n",
       "1 2023-04-18 06:33:03+00:00      91791929    ARB 1.7780\n",
       "2 2023-05-14 06:34:21+00:00      98122805    ARB 1.1728\n",
       "3 2023-08-08 12:19:07+00:00     107949185    APE 1.8259\n",
       "4 2024-02-13 23:07:03+00:00     116133423    APE 1.5134"
      ]
     },
     "execution_count": 5,
     "metadata": {},
     "output_type": "execute_result"
    }
   ],
   "source": [
    "df_prices.head()"
   ]
  },
  {
   "cell_type": "code",
   "execution_count": 6,
   "metadata": {},
   "outputs": [
    {
     "data": {
      "text/html": [
       "<div>\n",
       "<style scoped>\n",
       "    .dataframe tbody tr th:only-of-type {\n",
       "        vertical-align: middle;\n",
       "    }\n",
       "\n",
       "    .dataframe tbody tr th {\n",
       "        vertical-align: top;\n",
       "    }\n",
       "\n",
       "    .dataframe thead th {\n",
       "        text-align: right;\n",
       "    }\n",
       "</style>\n",
       "<table border=\"1\" class=\"dataframe\">\n",
       "  <thead>\n",
       "    <tr style=\"text-align: right;\">\n",
       "      <th></th>\n",
       "      <th>id</th>\n",
       "      <th>blockNumber</th>\n",
       "      <th>blockTimestamp</th>\n",
       "      <th>transactionHash</th>\n",
       "      <th>contract</th>\n",
       "      <th>eventName</th>\n",
       "      <th>account</th>\n",
       "      <th>leveragedTokenAmount</th>\n",
       "      <th>baseAssetAmount</th>\n",
       "      <th>file_location</th>\n",
       "      <th>ts</th>\n",
       "      <th>market</th>\n",
       "    </tr>\n",
       "  </thead>\n",
       "  <tbody>\n",
       "    <tr>\n",
       "      <th>0</th>\n",
       "      <td>0120085092-000129-c067a</td>\n",
       "      <td>120085092</td>\n",
       "      <td>2024-05-15 10:29:21+00:00</td>\n",
       "      <td>0x8f6db5f7afa823d56161664162db3a924cd029accf2b...</td>\n",
       "      <td>0x169d4884be225b322963912df3641948143ff92b</td>\n",
       "      <td>Minted</td>\n",
       "      <td>0x559822cf7213bC2DDa0aeCffA0b66Bd083C169CD</td>\n",
       "      <td>100000000000000000000</td>\n",
       "      <td>99998796635982988401</td>\n",
       "      <td>/Users/Troy/repos/data/parquet-data/indexers/r...</td>\n",
       "      <td>2024-05-15 10:29:21+00:00</td>\n",
       "      <td>BTC</td>\n",
       "    </tr>\n",
       "    <tr>\n",
       "      <th>1</th>\n",
       "      <td>0120085440-000169-944fa</td>\n",
       "      <td>120085440</td>\n",
       "      <td>2024-05-15 10:40:57+00:00</td>\n",
       "      <td>0xfd3af02755c493352bd3c11092606d25e1b807cb4b13...</td>\n",
       "      <td>0x169d4884be225b322963912df3641948143ff92b</td>\n",
       "      <td>Minted</td>\n",
       "      <td>0x559822cf7213bC2DDa0aeCffA0b66Bd083C169CD</td>\n",
       "      <td>50000000000000000000</td>\n",
       "      <td>50538751259711503056</td>\n",
       "      <td>/Users/Troy/repos/data/parquet-data/indexers/r...</td>\n",
       "      <td>2024-05-15 10:40:57+00:00</td>\n",
       "      <td>BTC</td>\n",
       "    </tr>\n",
       "    <tr>\n",
       "      <th>2</th>\n",
       "      <td>0120227737-000021-898ea</td>\n",
       "      <td>120227737</td>\n",
       "      <td>2024-05-18 17:44:11+00:00</td>\n",
       "      <td>0x6f06b2eaf5fd925895d68c112a2fd7485eaadcb08622...</td>\n",
       "      <td>0x169d4884be225b322963912df3641948143ff92b</td>\n",
       "      <td>Minted</td>\n",
       "      <td>0x07Aeeb7E544A070a2553e142828fb30c214a1F86</td>\n",
       "      <td>10000000000000000000</td>\n",
       "      <td>9555743335319838006</td>\n",
       "      <td>/Users/Troy/repos/data/parquet-data/indexers/r...</td>\n",
       "      <td>2024-05-18 17:44:11+00:00</td>\n",
       "      <td>BTC</td>\n",
       "    </tr>\n",
       "    <tr>\n",
       "      <th>3</th>\n",
       "      <td>0120230183-000106-78d76</td>\n",
       "      <td>120230183</td>\n",
       "      <td>2024-05-18 19:05:43+00:00</td>\n",
       "      <td>0x4f13e17fca0d522bcd6ad02b200f5bea026d6459b446...</td>\n",
       "      <td>0x169d4884be225b322963912df3641948143ff92b</td>\n",
       "      <td>Minted</td>\n",
       "      <td>0x9e5A57470A2a136a3d4De39e1996E05944C4b1fb</td>\n",
       "      <td>98947628004605507454</td>\n",
       "      <td>94572586569905948466</td>\n",
       "      <td>/Users/Troy/repos/data/parquet-data/indexers/r...</td>\n",
       "      <td>2024-05-18 19:05:43+00:00</td>\n",
       "      <td>BTC</td>\n",
       "    </tr>\n",
       "    <tr>\n",
       "      <th>4</th>\n",
       "      <td>0120230411-000029-db77c</td>\n",
       "      <td>120230411</td>\n",
       "      <td>2024-05-18 19:13:19+00:00</td>\n",
       "      <td>0x5b8ba20572d01174e6312a6de4dcbbde21d973119dd1...</td>\n",
       "      <td>0x169d4884be225b322963912df3641948143ff92b</td>\n",
       "      <td>Minted</td>\n",
       "      <td>0x9e5A57470A2a136a3d4De39e1996E05944C4b1fb</td>\n",
       "      <td>2832000000000000000000</td>\n",
       "      <td>2717933929106361752497</td>\n",
       "      <td>/Users/Troy/repos/data/parquet-data/indexers/r...</td>\n",
       "      <td>2024-05-18 19:13:19+00:00</td>\n",
       "      <td>BTC</td>\n",
       "    </tr>\n",
       "  </tbody>\n",
       "</table>\n",
       "</div>"
      ],
      "text/plain": [
       "                        id  blockNumber            blockTimestamp  \\\n",
       "0  0120085092-000129-c067a    120085092 2024-05-15 10:29:21+00:00   \n",
       "1  0120085440-000169-944fa    120085440 2024-05-15 10:40:57+00:00   \n",
       "2  0120227737-000021-898ea    120227737 2024-05-18 17:44:11+00:00   \n",
       "3  0120230183-000106-78d76    120230183 2024-05-18 19:05:43+00:00   \n",
       "4  0120230411-000029-db77c    120230411 2024-05-18 19:13:19+00:00   \n",
       "\n",
       "                                     transactionHash  \\\n",
       "0  0x8f6db5f7afa823d56161664162db3a924cd029accf2b...   \n",
       "1  0xfd3af02755c493352bd3c11092606d25e1b807cb4b13...   \n",
       "2  0x6f06b2eaf5fd925895d68c112a2fd7485eaadcb08622...   \n",
       "3  0x4f13e17fca0d522bcd6ad02b200f5bea026d6459b446...   \n",
       "4  0x5b8ba20572d01174e6312a6de4dcbbde21d973119dd1...   \n",
       "\n",
       "                                     contract eventName  \\\n",
       "0  0x169d4884be225b322963912df3641948143ff92b    Minted   \n",
       "1  0x169d4884be225b322963912df3641948143ff92b    Minted   \n",
       "2  0x169d4884be225b322963912df3641948143ff92b    Minted   \n",
       "3  0x169d4884be225b322963912df3641948143ff92b    Minted   \n",
       "4  0x169d4884be225b322963912df3641948143ff92b    Minted   \n",
       "\n",
       "                                      account    leveragedTokenAmount  \\\n",
       "0  0x559822cf7213bC2DDa0aeCffA0b66Bd083C169CD   100000000000000000000   \n",
       "1  0x559822cf7213bC2DDa0aeCffA0b66Bd083C169CD    50000000000000000000   \n",
       "2  0x07Aeeb7E544A070a2553e142828fb30c214a1F86    10000000000000000000   \n",
       "3  0x9e5A57470A2a136a3d4De39e1996E05944C4b1fb    98947628004605507454   \n",
       "4  0x9e5A57470A2a136a3d4De39e1996E05944C4b1fb  2832000000000000000000   \n",
       "\n",
       "          baseAssetAmount                                      file_location  \\\n",
       "0    99998796635982988401  /Users/Troy/repos/data/parquet-data/indexers/r...   \n",
       "1    50538751259711503056  /Users/Troy/repos/data/parquet-data/indexers/r...   \n",
       "2     9555743335319838006  /Users/Troy/repos/data/parquet-data/indexers/r...   \n",
       "3    94572586569905948466  /Users/Troy/repos/data/parquet-data/indexers/r...   \n",
       "4  2717933929106361752497  /Users/Troy/repos/data/parquet-data/indexers/r...   \n",
       "\n",
       "                         ts market  \n",
       "0 2024-05-15 10:29:21+00:00    BTC  \n",
       "1 2024-05-15 10:40:57+00:00    BTC  \n",
       "2 2024-05-18 17:44:11+00:00    BTC  \n",
       "3 2024-05-18 19:05:43+00:00    BTC  \n",
       "4 2024-05-18 19:13:19+00:00    BTC  "
      ]
     },
     "execution_count": 6,
     "metadata": {},
     "output_type": "execute_result"
    }
   ],
   "source": [
    "df_tlx.head()"
   ]
  },
  {
   "cell_type": "code",
   "execution_count": 7,
   "metadata": {},
   "outputs": [],
   "source": [
    "# Convert 'ts' columns to integer timestamps in milliseconds\n",
    "df_tlx[\"ts_int\"] = df_tlx[\"ts\"].astype(\"int64\")\n",
    "df_prices[\"ts_int\"] = df_prices[\"ts\"].astype(\"int64\") // 10**6\n",
    "\n",
    "# Sort DataFrames by 'ts_int' before merging\n",
    "df_tlx_sorted = df_tlx.sort_values(\"ts_int\")\n",
    "df_prices_sorted = df_prices.sort_values(\"ts_int\")\n",
    "\n",
    "# Perform asof merge on 'ts_int'\n",
    "df_merged = pd.merge_asof(\n",
    "    df_tlx_sorted, df_prices_sorted, on=\"ts_int\", by=\"market\", direction=\"backward\"\n",
    ")\n",
    "\n",
    "# Convert 'ts_int' back to datetime\n",
    "df_merged[\"ts\"] = pd.to_datetime(df_merged[\"ts_int\"], unit=\"ms\", utc=True)\n",
    "\n",
    "# Drop the 'ts_int' column if no longer needed\n",
    "df_merged = df_merged.drop(columns=[\"ts_int\"])\n"
   ]
  },
  {
   "cell_type": "code",
   "execution_count": 8,
   "metadata": {},
   "outputs": [],
   "source": [
    "df_merged[\"volume\"] = df_merged[\"leveragedTokenAmount\"].apply(lambda x: int(x) / 1e18)"
   ]
  },
  {
   "cell_type": "code",
   "execution_count": 9,
   "metadata": {},
   "outputs": [
    {
     "data": {
      "text/plain": [
       "market\n",
       "SOL       73640167.9628\n",
       "ETH       38028447.3733\n",
       "BTC       27374002.9477\n",
       "PEPE       9490307.9370\n",
       "DOGE       3857734.7493\n",
       "SUI        2081530.5400\n",
       "OP          770563.5337\n",
       "LINK        497864.7436\n",
       "ETHBTC1     255571.1194\n",
       "SEI         235991.9719\n",
       "ETHBTC      105470.1066\n",
       "RUNE         76205.7347\n",
       "Name: volume, dtype: float64"
      ]
     },
     "execution_count": 9,
     "metadata": {},
     "output_type": "execute_result"
    }
   ],
   "source": [
    "df_merged.groupby(\"market\")[\"volume\"].sum().sort_values(ascending=False)"
   ]
  },
  {
   "cell_type": "code",
   "execution_count": 10,
   "metadata": {},
   "outputs": [],
   "source": [
    "# top accounts all time\n",
    "top_accounts = (\n",
    "    df_merged.groupby(\"account\")[\"volume\"].sum().sort_values(ascending=False).head(25)\n",
    ")\n",
    "top_accounts_30 = (\n",
    "    df_merged[df_merged[\"ts\"] > pd.Timestamp.now(tz=\"UTC\") - pd.Timedelta(days=30)]\n",
    "    .groupby(\"account\")[\"volume\"]\n",
    "    .sum()\n",
    "    .sort_values(ascending=False)\n",
    "    .head(25)\n",
    ")"
   ]
  },
  {
   "cell_type": "code",
   "execution_count": 11,
   "metadata": {},
   "outputs": [
    {
     "name": "stdout",
     "output_type": "stream",
     "text": [
      "account\n",
      "0x19A610D0Bf96530003c1521771223ED5488e7f80   13225686.6384\n",
      "0x081CDbc7b1d8972704F27b2840df30808c73Eb8F   12910448.5951\n",
      "0x28b82692c8010C0f73b32822Ed1e480c9032b6CB    8733373.1092\n",
      "0x25C68aC0Cd0E2ACC69f1E16372c0876FD2ddcC02    8278827.4631\n",
      "0xb3E1A2299fFe8bB914E426023B877c053116e407    7948689.3126\n",
      "0x76ec668AF27f6426eF3478DceC55f8255baFD6E2    6157297.7583\n",
      "0xcbA16808cb1F7a21fD944005F75d6a171cF2e51d    4740573.0175\n",
      "0x6262210738C6ceDd9813aFAd8D4684f8879266F2    4424642.0433\n",
      "0x829d069b91e0986DbA484C344187F2021132c65a    2503682.3620\n",
      "0x43B2ff7d7AB907AC88FbFC1BE9422c817732561B    2178245.4676\n",
      "0xDF83756D2c07837a7a3366738520E53128Cefc45    1603954.2379\n",
      "0x6bCEc4D5Ec1858C5b32Fe46E1c32DCE6BE23A528    1411657.1129\n",
      "0x20303881946dE067A36551C2e7476215BAd4fca6    1317815.0010\n",
      "0xEf7f5f79550b701e84988fcbE474dC5614E03fe1    1269175.7007\n",
      "0xFeD00C6a94B5807B9a871cd2c02c12be1D92887a    1230528.4981\n",
      "0x4b485AB85070123fcf714BDBB21E31f1ebE1FE20    1210446.8513\n",
      "0xF0BD8676AF8cFb5dF1720fa6a783900379C08184    1172967.6274\n",
      "0xA9a26bf7fE8aF1B1883091c07F88b1A5e0891C6a    1046176.8368\n",
      "0xAb30863d5aCd21af2F400e0a7DC00c64Eddae6aB    1032174.2443\n",
      "0x7c726F02c460D192f7E96Eb6fEda110eDc4C65De    1019131.1729\n",
      "0xb24D7a8ACFaf4f652D7eE956446AEE48F6Ef048F    1015772.4964\n",
      "0xbFB0E6bC703db08eF54a587dCC1aCCDD3A8B9E35    1011429.3936\n",
      "0x5aF5Df60d112089a8194123e5CEE547c383c038c     984004.2588\n",
      "0x793720991651Df5DC064dD6F45Bb5C4eF9ED3Fe0     935801.3491\n",
      "0x2020f3c2D31DC374709b830Cd1D67EA1D5a3997C     716859.0256\n",
      "Name: volume, dtype: float64\n"
     ]
    }
   ],
   "source": [
    "print(top_accounts)"
   ]
  },
  {
   "cell_type": "code",
   "execution_count": 12,
   "metadata": {},
   "outputs": [
    {
     "name": "stdout",
     "output_type": "stream",
     "text": [
      "account\n",
      "0x28b82692c8010C0f73b32822Ed1e480c9032b6CB   4248950.7373\n",
      "0x6262210738C6ceDd9813aFAd8D4684f8879266F2   4110944.5084\n",
      "0x829d069b91e0986DbA484C344187F2021132c65a   1887369.0469\n",
      "0x4b485AB85070123fcf714BDBB21E31f1ebE1FE20   1210446.8513\n",
      "0x5aF5Df60d112089a8194123e5CEE547c383c038c    926929.1471\n",
      "0x2020f3c2D31DC374709b830Cd1D67EA1D5a3997C    672935.3681\n",
      "0x1140321cCE279B4a2158571eb377669Def562Ac4    647641.5611\n",
      "0x43B2ff7d7AB907AC88FbFC1BE9422c817732561B    631023.5949\n",
      "0x0364b6466A81496B651cbc585b1c7699B5876051    419707.0355\n",
      "0x68FB040f644a531fe8232FCd7D848254e7b4D021    395520.2608\n",
      "0xEFa9817089e6Dd0404386d611CE80426BEE2588E    339587.6212\n",
      "0xEc8Bc2a6ae1460e385F68b3e0594B33252372151    301963.1889\n",
      "0xb12200e7d1ec6029c56685B956E6943E4A86B7a3    283150.6719\n",
      "0xBddcD6Cf8107C969a141DFf1776D1c697Aea9fF4    259715.9176\n",
      "0x41549A400e3f28E5F153F07361930e684daF6652    234222.9939\n",
      "0x24056c7bEe4BC7129d4271cA9186130edc81AFdD    228549.5010\n",
      "0xC04d6DB6CFb0e7E0366fC7Ec9945A51967fE14E5    223260.8822\n",
      "0x8FB08322CAb8947fcAe861104558D0607876042d    209491.1247\n",
      "0xFBD2bb2da0A834f7b4F3301852DB2dF080e9BBcc    195244.7287\n",
      "0x18AA5CfC9Db444A562569B4C41762F17Fd4c2E7A    192423.5642\n",
      "0x3789505f5dC1B120418fB65ff4170D7fD9a159b6    179772.2419\n",
      "0xF5e30Ba313e32Dbe4d165C0DB4720990584b7136    176675.6827\n",
      "0x360eAAC958927BB093b15F79Fd612c36289ef391    176212.1523\n",
      "0x65224ff6924545e02740d57101f49AB2E7CEf32B    155405.8465\n",
      "0x075504174c0700F14F1Cb5D0E212aBf014Fdda4E    150216.4346\n",
      "Name: volume, dtype: float64\n"
     ]
    }
   ],
   "source": [
    "print(top_accounts_30)"
   ]
  },
  {
   "cell_type": "code",
   "execution_count": 13,
   "metadata": {},
   "outputs": [],
   "source": [
    "top_accounts.to_csv(\"top_accounts.csv\")\n",
    "top_accounts_30.to_csv(\"top_accounts_30.csv\")"
   ]
  },
  {
   "cell_type": "code",
   "execution_count": null,
   "metadata": {},
   "outputs": [],
   "source": []
  }
 ],
 "metadata": {
  "kernelspec": {
   "display_name": "data-tools-aFHH3xsL-py3.12",
   "language": "python",
   "name": "python3"
  },
  "language_info": {
   "codemirror_mode": {
    "name": "ipython",
    "version": 3
   },
   "file_extension": ".py",
   "mimetype": "text/x-python",
   "name": "python",
   "nbconvert_exporter": "python",
   "pygments_lexer": "ipython3",
   "version": "3.12.5"
  }
 },
 "nbformat": 4,
 "nbformat_minor": 2
}
