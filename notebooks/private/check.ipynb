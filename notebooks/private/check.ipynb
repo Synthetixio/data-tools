{
 "cells": [
  {
   "cell_type": "code",
   "execution_count": 8,
   "metadata": {},
   "outputs": [],
   "source": [
    "import polars as pl\n",
    "import pandas as pd\n",
    "from dotenv import load_dotenv\n",
    "from api.internal_api import SynthetixAPI, get_db_config\n",
    "\n",
    "load_dotenv()\n",
    "\n",
    "# constants\n",
    "DATA_LOC = \"~/repos/data/parquet-data\"\n",
    "db_config = get_db_config(streamlit=False)\n",
    "api = SynthetixAPI(db_config, streamlit=False)\n"
   ]
  },
  {
   "cell_type": "code",
   "execution_count": 9,
   "metadata": {},
   "outputs": [],
   "source": [
    "# get tlx data\n",
    "df_pl = pl.scan_parquet(\n",
    "    [\n",
    "        f\"{DATA_LOC}/raw/eth_mainnet/getVaultCollateral/*.parquet\",\n",
    "    ],\n",
    "    include_file_paths=\"file_location\",\n",
    ")\n",
    "df = df_pl.collect()\n",
    "df_raw = df.to_pandas()\n"
   ]
  },
  {
   "cell_type": "code",
   "execution_count": null,
   "metadata": {},
   "outputs": [],
   "source": [
    "df_raw\n"
   ]
  },
  {
   "cell_type": "code",
   "execution_count": 11,
   "metadata": {},
   "outputs": [],
   "source": [
    "# get tlx data\n",
    "df_pl = pl.scan_parquet(\n",
    "    [\n",
    "        f\"{DATA_LOC}/clean/eth_mainnet/getVaultCollateral.parquet\",\n",
    "    ],\n",
    "    include_file_paths=\"file_location\",\n",
    ")\n",
    "df = df_pl.collect()\n",
    "df_clean = df.to_pandas()\n"
   ]
  },
  {
   "cell_type": "code",
   "execution_count": null,
   "metadata": {},
   "outputs": [],
   "source": [
    "df_clean"
   ]
  },
  {
   "cell_type": "code",
   "execution_count": null,
   "metadata": {},
   "outputs": [],
   "source": [
    "df_clean[(df_clean[\"block_number\"] > 21291400) & (df_clean[\"block_number\"] < 21291500)]"
   ]
  },
  {
   "cell_type": "code",
   "execution_count": null,
   "metadata": {},
   "outputs": [],
   "source": [
    "df_tlx[\"ts\"] = df_tlx[\"blockTimestamp\"]\n",
    "df_tlx[\"market\"] = (\n",
    "    df_tlx[\"file_location\"]\n",
    "    .apply(lambda x: x.split(\"/\")[-1].split(\"_\")[0][:-1])\n",
    "    .str.upper()\n",
    ")\n"
   ]
  },
  {
   "cell_type": "code",
   "execution_count": null,
   "metadata": {},
   "outputs": [],
   "source": [
    "# get prices\n",
    "df_prices = api._run_query(\n",
    "    \"\"\"\n",
    "SELECT distinct ts,\n",
    "    block_number,\n",
    "    market,\n",
    "    last(price) over(partition by market order by ts) as price\n",
    "FROM prod_optimism_mainnet.fct_v2_trades_optimism_mainnet\n",
    "    \"\"\"\n",
    ")\n",
    "print(df_prices)\n"
   ]
  },
  {
   "cell_type": "code",
   "execution_count": null,
   "metadata": {},
   "outputs": [],
   "source": [
    "df_prices.head()"
   ]
  },
  {
   "cell_type": "code",
   "execution_count": null,
   "metadata": {},
   "outputs": [],
   "source": [
    "df_tlx.head()"
   ]
  },
  {
   "cell_type": "code",
   "execution_count": null,
   "metadata": {},
   "outputs": [],
   "source": [
    "# Convert 'ts' columns to integer timestamps in milliseconds\n",
    "df_tlx[\"ts_int\"] = df_tlx[\"ts\"].astype(\"int64\")\n",
    "df_prices[\"ts_int\"] = df_prices[\"ts\"].astype(\"int64\") // 10**6\n",
    "\n",
    "# Sort DataFrames by 'ts_int' before merging\n",
    "df_tlx_sorted = df_tlx.sort_values(\"ts_int\")\n",
    "df_prices_sorted = df_prices.sort_values(\"ts_int\")\n",
    "\n",
    "# Perform asof merge on 'ts_int'\n",
    "df_merged = pd.merge_asof(\n",
    "    df_tlx_sorted, df_prices_sorted, on=\"ts_int\", by=\"market\", direction=\"backward\"\n",
    ")\n",
    "\n",
    "# Convert 'ts_int' back to datetime\n",
    "df_merged[\"ts\"] = pd.to_datetime(df_merged[\"ts_int\"], unit=\"ms\", utc=True)\n",
    "\n",
    "# Drop the 'ts_int' column if no longer needed\n",
    "df_merged = df_merged.drop(columns=[\"ts_int\"])\n"
   ]
  },
  {
   "cell_type": "code",
   "execution_count": null,
   "metadata": {},
   "outputs": [],
   "source": [
    "df_merged[\"volume\"] = df_merged[\"leveragedTokenAmount\"].apply(lambda x: int(x) / 1e18)"
   ]
  },
  {
   "cell_type": "code",
   "execution_count": null,
   "metadata": {},
   "outputs": [],
   "source": [
    "df_merged.groupby(\"market\")[\"volume\"].sum().sort_values(ascending=False)"
   ]
  },
  {
   "cell_type": "code",
   "execution_count": null,
   "metadata": {},
   "outputs": [],
   "source": [
    "# top accounts all time\n",
    "top_accounts = (\n",
    "    df_merged.groupby(\"account\")[\"volume\"].sum().sort_values(ascending=False).head(25)\n",
    ")\n",
    "top_accounts_30 = (\n",
    "    df_merged[df_merged[\"ts\"] > pd.Timestamp.now(tz=\"UTC\") - pd.Timedelta(days=30)]\n",
    "    .groupby(\"account\")[\"volume\"]\n",
    "    .sum()\n",
    "    .sort_values(ascending=False)\n",
    "    .head(25)\n",
    ")"
   ]
  },
  {
   "cell_type": "code",
   "execution_count": null,
   "metadata": {},
   "outputs": [],
   "source": [
    "print(top_accounts)"
   ]
  },
  {
   "cell_type": "code",
   "execution_count": null,
   "metadata": {},
   "outputs": [],
   "source": [
    "print(top_accounts_30)"
   ]
  },
  {
   "cell_type": "code",
   "execution_count": null,
   "metadata": {},
   "outputs": [],
   "source": [
    "top_accounts.to_csv(\"top_accounts.csv\")\n",
    "top_accounts_30.to_csv(\"top_accounts_30.csv\")"
   ]
  },
  {
   "cell_type": "code",
   "execution_count": null,
   "metadata": {},
   "outputs": [],
   "source": []
  }
 ],
 "metadata": {
  "kernelspec": {
   "display_name": "data-tools-aFHH3xsL-py3.12",
   "language": "python",
   "name": "python3"
  },
  "language_info": {
   "codemirror_mode": {
    "name": "ipython",
    "version": 3
   },
   "file_extension": ".py",
   "mimetype": "text/x-python",
   "name": "python",
   "nbconvert_exporter": "python",
   "pygments_lexer": "ipython3",
   "version": "3.12.5"
  }
 },
 "nbformat": 4,
 "nbformat_minor": 2
}
